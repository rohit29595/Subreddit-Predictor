{
 "cells": [
  {
   "cell_type": "code",
   "execution_count": 6,
   "metadata": {},
   "outputs": [],
   "source": [
    "import sklearn\n",
    "import nltk\n",
    "import praw\n",
    "import json\n",
    "import pprint\n",
    "import pandas as pd\n",
    "import numpy as np\n",
    "import re\n",
    "from io import StringIO     "
   ]
  },
  {
   "cell_type": "code",
   "execution_count": 7,
   "metadata": {},
   "outputs": [],
   "source": [
    "reddit = praw.Reddit(client_id='d82BgeGuxFNBlA', client_secret='Ddi18K33GxZoIJLXGPkqTRZiO3o',\n",
    "                    password='Rohit295', user_agent='redrohit295',\n",
    "                    username='redrohit295')\n"
   ]
  },
  {
   "cell_type": "code",
   "execution_count": 8,
   "metadata": {},
   "outputs": [],
   "source": [
    "list_of_items = []\n",
    "fields = ['title','subreddit_id']\n",
    "\n",
    "ritreddit = reddit.subreddit('rit')\n",
    "for submission in ritreddit.top(limit=500):\n",
    "    to_dict = vars(submission)\n",
    "    sub_dict = {field: to_dict[field] for field in fields}\n",
    "    list_of_items.append(sub_dict)"
   ]
  },
  {
   "cell_type": "code",
   "execution_count": 9,
   "metadata": {},
   "outputs": [],
   "source": [
    "with open('ritdata500lg.json', 'w') as f:\n",
    "    json.dump(list_of_items, f)"
   ]
  },
  {
   "cell_type": "code",
   "execution_count": 10,
   "metadata": {},
   "outputs": [],
   "source": [
    "list_of_items = []\n",
    "fields = ['title','subreddit_id']\n",
    "\n",
    "ritreddit = reddit.subreddit('christmas')\n",
    "for submission in ritreddit.top(limit=500):\n",
    "    to_dict = vars(submission)\n",
    "    sub_dict = {field: to_dict[field] for field in fields}\n",
    "    list_of_items.append(sub_dict)"
   ]
  },
  {
   "cell_type": "code",
   "execution_count": 11,
   "metadata": {},
   "outputs": [],
   "source": [
    "with open('christmasdata500lg.json', 'w') as f:\n",
    "    json.dump(list_of_items, f)"
   ]
  },
  {
   "cell_type": "code",
   "execution_count": 12,
   "metadata": {},
   "outputs": [],
   "source": [
    "ritfile = 'ritdata500lg.json'\n",
    "with open(ritfile) as rit_file:\n",
    "    rit_dict = json.load(rit_file)\n",
    "\n",
    "# converting json dataset from dictionary to dataframe\n",
    "rit_df = pd.DataFrame.from_dict(rit_dict)\n",
    "rit_df.reset_index(level=0, inplace=True)"
   ]
  },
  {
   "cell_type": "code",
   "execution_count": 13,
   "metadata": {},
   "outputs": [],
   "source": [
    "chritmasfile = 'christmasdata500.json'\n",
    "with open(chritmasfile) as chritmas_file:\n",
    "    christmas_dict = json.load(chritmas_file)\n",
    "\n",
    "# converting json dataset from dictionary to dataframe\n",
    "christmas_df = pd.DataFrame.from_dict(christmas_dict)\n",
    "christmas_df.reset_index(level=0, inplace=True)"
   ]
  },
  {
   "cell_type": "code",
   "execution_count": 14,
   "metadata": {},
   "outputs": [],
   "source": [
    "data_df = pd.concat([rit_df,christmas_df])"
   ]
  },
  {
   "cell_type": "code",
   "execution_count": 15,
   "metadata": {},
   "outputs": [],
   "source": [
    "data_df = data_df.replace('t5_2qh3x',0)\n",
    "data_df = data_df.replace('t5_2qi2n',1)"
   ]
  },
  {
   "cell_type": "code",
   "execution_count": 16,
   "metadata": {},
   "outputs": [],
   "source": [
    "from sklearn.utils import shuffle\n",
    "data_df = shuffle(data_df)"
   ]
  },
  {
   "cell_type": "code",
   "execution_count": 17,
   "metadata": {},
   "outputs": [],
   "source": [
    "from sklearn.model_selection import train_test_split\n",
    "X_train, X_test, y_train, y_test = train_test_split(data_df[\"title\"], data_df[\"subreddit_id\"], test_size=0.5, random_state=1)\n",
    "\n",
    "X_test, X_dev, y_test, y_dev = train_test_split(X_test, y_test, test_size=0.5, random_state=1)"
   ]
  },
  {
   "cell_type": "code",
   "execution_count": 18,
   "metadata": {},
   "outputs": [],
   "source": [
    "from sklearn.feature_extraction.text import CountVectorizer\n",
    "\n",
    "vectorizer = CountVectorizer()\n",
    "vectorizer.fit(X_train)\n",
    "\n",
    "X_train_lg = vectorizer.transform(X_train)\n",
    "X_test_lg  = vectorizer.transform(X_test)\n"
   ]
  },
  {
   "cell_type": "code",
   "execution_count": 19,
   "metadata": {},
   "outputs": [
    {
     "name": "stdout",
     "output_type": "stream",
     "text": [
      "('Accuracy:', 0.86)\n"
     ]
    },
    {
     "name": "stderr",
     "output_type": "stream",
     "text": [
      "C:\\Anaconda2\\lib\\site-packages\\sklearn\\linear_model\\logistic.py:433: FutureWarning: Default solver will be changed to 'lbfgs' in 0.22. Specify a solver to silence this warning.\n",
      "  FutureWarning)\n"
     ]
    }
   ],
   "source": [
    "from sklearn.linear_model import LogisticRegression\n",
    "\n",
    "classifier = LogisticRegression()\n",
    "classifier.fit(X_train_lg, y_train)\n",
    "score = classifier.score(X_test_lg, y_test)\n",
    "print(\"Accuracy:\", score)"
   ]
  }
 ],
 "metadata": {
  "kernelspec": {
   "display_name": "Python 2",
   "language": "python",
   "name": "python2"
  },
  "language_info": {
   "codemirror_mode": {
    "name": "ipython",
    "version": 2
   },
   "file_extension": ".py",
   "mimetype": "text/x-python",
   "name": "python",
   "nbconvert_exporter": "python",
   "pygments_lexer": "ipython2",
   "version": "2.7.15"
  }
 },
 "nbformat": 4,
 "nbformat_minor": 2
}
